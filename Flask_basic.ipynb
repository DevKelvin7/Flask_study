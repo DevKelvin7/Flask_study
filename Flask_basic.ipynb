{
 "cells": [
  {
   "cell_type": "markdown",
   "id": "e7352b8d",
   "metadata": {},
   "source": [
    "## Flask (특징)\n",
    "- 마이크로 프레임워크 기반\n",
    "- 웹 개발 최소 기능 제공, Restful 요청 처리, 유니코드 기반, 필요한 부분은 추가해서 확장 가능\n",
    "- 참고: http://flask.pocoo.org/\n",
    "\n",
    "## 1. flask 기본 사용법\n",
    "---\n",
    "### 1.1 flask 모듈 import\n",
    "- pip install flask"
   ]
  },
  {
   "cell_type": "code",
   "execution_count": 3,
   "id": "d756c329",
   "metadata": {},
   "outputs": [],
   "source": [
    "from flask import Flask"
   ]
  },
  {
   "cell_type": "markdown",
   "id": "e524ecfb",
   "metadata": {},
   "source": [
    "### 1.2 Flask 객체를 app에 할당"
   ]
  },
  {
   "cell_type": "code",
   "execution_count": 4,
   "id": "236e6f8c",
   "metadata": {},
   "outputs": [],
   "source": [
    "app = Flask(__name__)"
   ]
  },
  {
   "cell_type": "code",
   "execution_count": 5,
   "id": "7b224314",
   "metadata": {},
   "outputs": [
    {
     "data": {
      "text/plain": [
       "'__main__'"
      ]
     },
     "execution_count": 5,
     "metadata": {},
     "output_type": "execute_result"
    }
   ],
   "source": [
    "__name__"
   ]
  },
  {
   "cell_type": "markdown",
   "id": "c64316cd",
   "metadata": {},
   "source": [
    "###  __name__이란?\n",
    "- __name__이라는 변수는 모듈의 이름이 저장됨\n",
    "- 실행하는 코드에서는 __main__값이 들어감"
   ]
  },
  {
   "cell_type": "markdown",
   "id": "9421b6c5",
   "metadata": {},
   "source": [
    "### test.py\n",
    "```python\n",
    "print('test.py__name__:', __name__)\n",
    "```\n",
    "\n",
    "### start.py\n",
    "```python\n",
    "import test\n",
    "print('start.py __name__:', __name__)\n",
    "```\n",
    ">start.py를 실행하면\n",
    "```python\n",
    "test.py __name__: test\n",
    "start.py __name__: __main__\n",
    "```\n",
    "\n",
    "### 파이썬과 시작점(entry point)\n",
    "- 파이썬은 스크립트 언어\n",
    "- 스크립트 언어는 전통적으로 시작점없이 스크립트 코드를 바로 실행함\n",
    "\n",
    "### 모듈이 아니라, 해당 코드 직접 실행시만 실행되는 코드\n"
   ]
  },
  {
   "cell_type": "code",
   "execution_count": 7,
   "id": "f45a7c7b",
   "metadata": {},
   "outputs": [
    {
     "name": "stdout",
     "output_type": "stream",
     "text": [
      "11\n",
      "12\n"
     ]
    }
   ],
   "source": [
    "def add_one(data):\n",
    "    return data+1\n",
    "def add_two(data):\n",
    "    return data+2\n",
    "if __name__ == '__main__': #모듈이 아니라, 해당 코드 직접 실행시만 실행\n",
    "    print(add_one(10))\n",
    "    print(add_two(10)) "
   ]
  },
  {
   "cell_type": "markdown",
   "id": "89f97f2a",
   "metadata": {},
   "source": [
    "### flask 객체 생성\n",
    "- Flask(__name__)으로 설정하여, 현재 위치를 flask 객체에 알려줘야 함\n",
    "    - 이름을 변경해도 정상 실행되지만, 일부 확장 기능 사용시에는 해당 이름을 정확히 알려주지 않을 경우, 정상 동작되지 않음"
   ]
  },
  {
   "cell_type": "code",
   "execution_count": 8,
   "id": "00a834c6",
   "metadata": {},
   "outputs": [],
   "source": [
    "from flask import Flask\n",
    "app = Flask(__name__)"
   ]
  },
  {
   "cell_type": "code",
   "execution_count": 9,
   "id": "f0149fc0",
   "metadata": {},
   "outputs": [
    {
     "data": {
      "text/plain": [
       "<Flask '__main__'>"
      ]
     },
     "execution_count": 9,
     "metadata": {},
     "output_type": "execute_result"
    }
   ],
   "source": [
    "app"
   ]
  },
  {
   "cell_type": "markdown",
   "id": "e94ee5c4",
   "metadata": {},
   "source": [
    "### 1.3 라우팅 경로를 설정"
   ]
  },
  {
   "cell_type": "markdown",
   "id": "8bf2958d",
   "metadata": {},
   "source": [
    "### URL이란\n",
    "- Uniform Resource Locator\n",
    "- 인터넷 상의 자원 위치 표기를 위한 규약\n",
    "- WWW 주요 요소 중 하나: HTML URL HTTP\n",
    "\n",
    "\n",
    "### 라우팅(route)이란?\n",
    "- 적절한 목적지를 찾아주는 기능\n",
    "- URL을 해당 URL에 맞는 기능과 연결해줌\n",
    "    - 예:\n",
    "        http://www.xxx.com/hello\n",
    "        http://www.xxx.com 서버에서 hello이라는 목적지에 맞는 함수를 호출해줌"
   ]
  },
  {
   "cell_type": "code",
   "execution_count": 10,
   "id": "385f1e9d",
   "metadata": {},
   "outputs": [],
   "source": [
    "@app.route(\"/hello\")\n",
    "def hello():\n",
    "    return \"<h1>Hello World!</h1>\""
   ]
  },
  {
   "cell_type": "markdown",
   "id": "06547a1f",
   "metadata": {},
   "source": [
    "- @으로 시작하는 코드는 데코레이터라고함 "
   ]
  },
  {
   "cell_type": "markdown",
   "id": "df5e86ea",
   "metadata": {},
   "source": [
    "### 1.4 메인 모듈로 실행될 때 flask 웹 서버 구동\n",
    "- 서버로 구동한 IP와 포트를 옵션으로 넣어줄 수 있음\n",
    "- app.run() 함수로 서버 구동 가능\n",
    "    - host, port, debug를 주로 사용함\n",
    "    - port:포트\n",
    "    - debug: True or False\n",
    "  ```python run(host=None, port=None, debug=True)```\n",
    "\n",
    "### 참고 WEB Server 와 WAS 프레임워크\n",
    "- 웹서버는 정적인 HTML 페이지를 반환한다.\n",
    "    - 요청에 따른 정적인 데이터를 반환한다.\n",
    "- 웹서버가 동적으로 데이터를 반환하도록 하기 위해서는, WAS 프레임워크가 필요하다.\n",
    "    - 주요 WAS 프레임워크로는 flask, django,rails, node.js 등이 있다.\n",
    "    \n",
    "### 기본 개발 프로세스\n",
    "- 자신의 PC에서 웹서비스 구현\n",
    "    - localhost, 127.0.0.1 또는 0.0.0.0으로 host 설정\n",
    "    - app.run()함수로 자체 웹서버 구현가능\n"
   ]
  },
  {
   "cell_type": "code",
   "execution_count": 12,
   "id": "4f5db79e",
   "metadata": {},
   "outputs": [
    {
     "name": "stdout",
     "output_type": "stream",
     "text": [
      " * Serving Flask app '__main__'\n",
      " * Debug mode: off\n"
     ]
    },
    {
     "name": "stderr",
     "output_type": "stream",
     "text": [
      "\u001b[31m\u001b[1mWARNING: This is a development server. Do not use it in a production deployment. Use a production WSGI server instead.\u001b[0m\n",
      " * Running on http://127.0.0.1:8080\n",
      "\u001b[33mPress CTRL+C to quit\u001b[0m\n",
      "127.0.0.1 - - [17/Jan/2023 23:45:41] \"\u001b[33mGET / HTTP/1.1\u001b[0m\" 404 -\n",
      "127.0.0.1 - - [17/Jan/2023 23:45:41] \"\u001b[33mGET /favicon.ico HTTP/1.1\u001b[0m\" 404 -\n",
      "127.0.0.1 - - [17/Jan/2023 23:46:37] \"\u001b[33mGET / HTTP/1.1\u001b[0m\" 404 -\n",
      "127.0.0.1 - - [17/Jan/2023 23:46:37] \"\u001b[33mGET /favicon.ico HTTP/1.1\u001b[0m\" 404 -\n",
      "127.0.0.1 - - [17/Jan/2023 23:46:45] \"GET /hello HTTP/1.1\" 200 -\n"
     ]
    }
   ],
   "source": [
    "from flask import Flask\n",
    "\n",
    "app=Flask(__name__)\n",
    "@app.route(\"/hello\")\n",
    "def hello():\n",
    "    return \"<h1> hello world! </h1>\"\n",
    "\n",
    "if __name__==\"__main__\":\n",
    "    app.run(host=\"127.0.0.1\", port=\"8080\")"
   ]
  },
  {
   "cell_type": "markdown",
   "id": "ed549feb",
   "metadata": {},
   "source": [
    " "
   ]
  },
  {
   "cell_type": "code",
   "execution_count": 1,
   "id": "a278ddc5",
   "metadata": {},
   "outputs": [
    {
     "name": "stdout",
     "output_type": "stream",
     "text": [
      " * Serving Flask app '__main__'\n",
      " * Debug mode: off\n"
     ]
    },
    {
     "name": "stderr",
     "output_type": "stream",
     "text": [
      "\u001b[31m\u001b[1mWARNING: This is a development server. Do not use it in a production deployment. Use a production WSGI server instead.\u001b[0m\n",
      " * Running on all addresses (0.0.0.0)\n",
      " * Running on http://127.0.0.1:8080\n",
      " * Running on http://192.168.219.107:8080\n",
      "\u001b[33mPress CTRL+C to quit\u001b[0m\n",
      "127.0.0.1 - - [20/Jan/2023 00:23:14] \"GET / HTTP/1.1\" 200 -\n",
      "127.0.0.1 - - [20/Jan/2023 00:23:14] \"\u001b[33mGET /favicon.ico HTTP/1.1\u001b[0m\" 404 -\n",
      "127.0.0.1 - - [20/Jan/2023 00:23:21] \"GET /profile/2 HTTP/1.1\" 200 -\n"
     ]
    }
   ],
   "source": [
    "from flask import Flask\n",
    "\n",
    "app=Flask(__name__)\n",
    "\n",
    "@app.route(\"/\")\n",
    "def hello():\n",
    "    return \"<h1>Hello World!</h1>\"\n",
    "\n",
    "@app.route(\"/profile/<username>\")\n",
    "def get_profile(username):\n",
    "    return \"profile:\"+username\n",
    "\n",
    "@app.route(\"/first/<username>\")\n",
    "def get_first(username):\n",
    "    return \"<h3>Hello\" + username +\"!</h3>\"\n",
    "\n",
    "if __name__==\"__main__\":\n",
    "    app.run(host=\"0.0.0.0\",port=\"8080\")"
   ]
  },
  {
   "cell_type": "code",
   "execution_count": null,
   "id": "f3bb2a22",
   "metadata": {},
   "outputs": [],
   "source": []
  }
 ],
 "metadata": {
  "kernelspec": {
   "display_name": "Python 3 (ipykernel)",
   "language": "python",
   "name": "python3"
  },
  "language_info": {
   "codemirror_mode": {
    "name": "ipython",
    "version": 3
   },
   "file_extension": ".py",
   "mimetype": "text/x-python",
   "name": "python",
   "nbconvert_exporter": "python",
   "pygments_lexer": "ipython3",
   "version": "3.11.1"
  }
 },
 "nbformat": 4,
 "nbformat_minor": 5
}
