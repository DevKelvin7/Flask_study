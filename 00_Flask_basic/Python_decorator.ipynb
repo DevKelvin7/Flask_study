{
 "cells": [
  {
   "cell_type": "markdown",
   "id": "3acc7d73",
   "metadata": {},
   "source": [
    "## 2. 파이썬: 데코레이터의 이해\n",
    "- 데코레이터는 단지 파이썬 flask뿐만 아니라, 다양한 언어 전반에 걸쳐서 많이 사용됨\n",
    "- 파이썬 flask에서 나오는 데코레이터를 쓰기 전에, 언어 전반에 걸친 데코레이터 관련 기술을 이해하기로함\n",
    "\n",
    "### 2.1 중첩 함수(Nested function)\n",
    "- 함수 내부에 정의된 또 다른 함수\n",
    "- 중첩함수는 해당 함수가 정의된 함수 내에서 호출 및 반환 가능\n",
    "- 함수 안에 선언된 변수는 함수 안에서만 사용 가능한 원리와 동일(로컬 변수)"
   ]
  },
  {
   "cell_type": "code",
   "execution_count": 1,
   "id": "27ad8c48",
   "metadata": {},
   "outputs": [],
   "source": [
    "def outer_func():\n",
    "    print('call outer_func function')\n",
    "    \n",
    "    def inner_func():\n",
    "        return 'call inner_func function'\n",
    "    \n",
    "    print(inner_func())"
   ]
  },
  {
   "cell_type": "code",
   "execution_count": 3,
   "id": "cf0fdfe9",
   "metadata": {},
   "outputs": [
    {
     "name": "stdout",
     "output_type": "stream",
     "text": [
      "call outer_func function\n",
      "call inner_func function\n"
     ]
    }
   ],
   "source": [
    "outer_func()"
   ]
  },
  {
   "cell_type": "code",
   "execution_count": 4,
   "id": "f1294418",
   "metadata": {},
   "outputs": [
    {
     "ename": "NameError",
     "evalue": "name 'inner_func' is not defined",
     "output_type": "error",
     "traceback": [
      "\u001b[0;31m---------------------------------------------------------------------------\u001b[0m",
      "\u001b[0;31mNameError\u001b[0m                                 Traceback (most recent call last)",
      "Cell \u001b[0;32mIn[4], line 2\u001b[0m\n\u001b[1;32m      1\u001b[0m \u001b[38;5;66;03m# 중첩 함수는 함수 밖에서 호출 불가 (outer_func 내부에서만 호출 된거기 때문에, outer_func 함수안에서만 호출 가능)\u001b[39;00m\n\u001b[0;32m----> 2\u001b[0m \u001b[43minner_func\u001b[49m() \u001b[38;5;66;03m# 단독 호출 시 오류 출력\u001b[39;00m\n",
      "\u001b[0;31mNameError\u001b[0m: name 'inner_func' is not defined"
     ]
    }
   ],
   "source": [
    "# 중첩 함수는 함수 밖에서 호출 불가 (outer_func 내부에서만 호출 된거기 때문에, outer_func 함수안에서만 호출 가능)\n",
    "inner_func() # 단독 호출 시 오류 출력(정의 되어 있지 않음)"
   ]
  },
  {
   "cell_type": "markdown",
   "id": "632ac5a8",
   "metadata": {},
   "source": [
    "**중첩함수를 함수 밖에서도 호출할 수 있는 방법**"
   ]
  },
  {
   "cell_type": "code",
   "execution_count": 7,
   "id": "9a344d4d",
   "metadata": {},
   "outputs": [
    {
     "name": "stdout",
     "output_type": "stream",
     "text": [
      "10\n",
      "complex\n"
     ]
    }
   ],
   "source": [
    "def outer_func(num):\n",
    "    def inner_func():\n",
    "        print(num)\n",
    "        return 'complex'\n",
    "    \n",
    "    return inner_func\n",
    "\n",
    "fn= outer_func(10)\n",
    "print(fn())"
   ]
  },
  {
   "cell_type": "markdown",
   "id": "4e409514",
   "metadata": {},
   "source": [
    "### 2.2 First-class function\n",
    "\n",
    "### First-class 함수\n",
    "- 함수 자체를 변수에 저장 가능\n",
    "- 함수의 인자에 다른 함수를 인수로 전달 가능\n",
    "- 함수의 반환 값 (return 값)으로 함수를 전달 가능\n",
    "\n",
    "### 파이썬과 First-class 함수\n",
    "- 사실 파이썬에서는 모든 것이 객체\n",
    "- 파이썬 함수도 객체로 되어 있어서, 기본 함수 기능 이외 객체와 같은 활용이 가능\n",
    "    - 즉, 파이썬의 함수들은 First-class 함수로 사용 가능\n"
   ]
  },
  {
   "cell_type": "code",
   "execution_count": 8,
   "id": "dbb801c4",
   "metadata": {},
   "outputs": [
    {
     "data": {
      "text/plain": [
       "4"
      ]
     },
     "execution_count": 8,
     "metadata": {},
     "output_type": "execute_result"
    }
   ],
   "source": [
    "# 1. 함수 자체를 변수에 할당\n",
    "def calc_square(digit):\n",
    "    return digit*digit\n",
    "\n",
    "calc_square(2)"
   ]
  },
  {
   "cell_type": "code",
   "execution_count": 9,
   "id": "16c1c457",
   "metadata": {},
   "outputs": [
    {
     "name": "stdout",
     "output_type": "stream",
     "text": [
      "<function calc_square at 0x118e6dee0>\n"
     ]
    }
   ],
   "source": [
    "# 1. func1 이라는 변수에 함수를 할당 가능\n",
    "func1=calc_square\n",
    "print(func1)"
   ]
  },
  {
   "cell_type": "code",
   "execution_count": 10,
   "id": "f1422cb3",
   "metadata": {},
   "outputs": [
    {
     "data": {
      "text/plain": [
       "4"
      ]
     },
     "execution_count": 10,
     "metadata": {},
     "output_type": "execute_result"
    }
   ],
   "source": [
    "func1(2)"
   ]
  },
  {
   "cell_type": "code",
   "execution_count": 11,
   "id": "f1caf75a",
   "metadata": {},
   "outputs": [
    {
     "name": "stdout",
     "output_type": "stream",
     "text": [
      "<function calc_square at 0x118e6dee0>\n"
     ]
    },
    {
     "data": {
      "text/plain": [
       "4"
      ]
     },
     "execution_count": 11,
     "metadata": {},
     "output_type": "execute_result"
    }
   ],
   "source": [
    "# 2. 함수가 할당된 변수는 동일한 함수처럼 활용 가능\n",
    "# func1 이라는 변수는 calc_square 함수를 가리키고, cal_square 와 마찬가지로 인자도 넣어서 결과도 얻을 수 있음"
   ]
  },
  {
   "cell_type": "code",
   "execution_count": 12,
   "id": "71dbc83c",
   "metadata": {},
   "outputs": [],
   "source": [
    "# 3. 함수를 다른 함수에 인자로 넣을수도 있음\n",
    "def calc_square(digit):\n",
    "    return digit*digit\n",
    "\n",
    "def calc_plus(digit):\n",
    "    return digit+digit\n",
    "\n",
    "def calc_quad(digit):\n",
    "    return digit*digit*digit*digit"
   ]
  },
  {
   "cell_type": "code",
   "execution_count": 13,
   "id": "cc26fbd9",
   "metadata": {},
   "outputs": [],
   "source": [
    "def list_square(function, digit_list):\n",
    "    result=list()\n",
    "    for digit in digit_list:\n",
    "        result.append(function(digit))\n",
    "    print(result)\n"
   ]
  },
  {
   "cell_type": "code",
   "execution_count": 14,
   "id": "4a5d559d",
   "metadata": {},
   "outputs": [
    {
     "name": "stdout",
     "output_type": "stream",
     "text": [
      "[1, 4, 9, 16, 25]\n",
      "[2, 4, 6, 8, 10]\n",
      "[1, 16, 81, 256, 625]\n"
     ]
    }
   ],
   "source": [
    "num_list={1,2,3,4,5}\n",
    "list_square(calc_square,num_list)\n",
    "list_square(calc_plus,num_list)\n",
    "list_square(calc_quad,num_list)"
   ]
  },
  {
   "cell_type": "code",
   "execution_count": 15,
   "id": "21a3a82f",
   "metadata": {},
   "outputs": [],
   "source": [
    "# 4. 함수의 결과값으로 함수를 리턴할 수도 있음\n",
    "def logger(msg):\n",
    "    message = msg\n",
    "    def msg_creator():\n",
    "        print(\"[HIGH LEVEL]:\", message)\n",
    "    return msg_creator"
   ]
  },
  {
   "cell_type": "code",
   "execution_count": 16,
   "id": "84d325bf",
   "metadata": {},
   "outputs": [
    {
     "name": "stdout",
     "output_type": "stream",
     "text": [
      "<function logger.<locals>.msg_creator at 0x119dc3d80>\n"
     ]
    }
   ],
   "source": [
    "log1=logger('Dave Log-in')\n",
    "print(log1)"
   ]
  },
  {
   "cell_type": "code",
   "execution_count": 17,
   "id": "47c16a72",
   "metadata": {},
   "outputs": [
    {
     "name": "stdout",
     "output_type": "stream",
     "text": [
      "[HIGH LEVEL]: Dave Log-in\n"
     ]
    }
   ],
   "source": [
    "log1()\n",
    "# 기존 함수를 삭제해도 log1()에는 정보가 살아 있어 그대로 출력된다."
   ]
  },
  {
   "cell_type": "markdown",
   "id": "5b552539",
   "metadata": {},
   "source": [
    "### First-class 함수 활용"
   ]
  },
  {
   "cell_type": "code",
   "execution_count": 30,
   "id": "7e63356b",
   "metadata": {},
   "outputs": [],
   "source": [
    "def html_creator(tag):\n",
    "    def text_wrapper(msg):\n",
    "        print('<{0}>{1}</{0}>'.format(tag, msg))\n",
    "    return text_wrapper"
   ]
  },
  {
   "cell_type": "code",
   "execution_count": 31,
   "id": "268c57dc",
   "metadata": {
    "scrolled": true
   },
   "outputs": [
    {
     "name": "stdout",
     "output_type": "stream",
     "text": [
      "<function html_creator.<locals>.text_wrapper at 0x119fc71a0>\n"
     ]
    }
   ],
   "source": [
    "h1_html_creator=html_creator('h1')\n",
    "print(h1_html_creator)"
   ]
  },
  {
   "cell_type": "code",
   "execution_count": 32,
   "id": "0fdff8d7",
   "metadata": {
    "scrolled": true
   },
   "outputs": [
    {
     "name": "stdout",
     "output_type": "stream",
     "text": [
      "<h1>H1 태그는 타이틀을 표시하는 태그입니다.</h1>\n"
     ]
    }
   ],
   "source": [
    "h1_html_creator('H1 태그는 타이틀을 표시하는 태그입니다.')"
   ]
  },
  {
   "cell_type": "code",
   "execution_count": 33,
   "id": "d9f440e6",
   "metadata": {},
   "outputs": [
    {
     "name": "stdout",
     "output_type": "stream",
     "text": [
      "<p>p태그는 문단을 표시하는 태그입니다.</p>\n"
     ]
    }
   ],
   "source": [
    "p_html_creator = html_creator('p')\n",
    "p_html_creator('p태그는 문단을 표시하는 태그입니다.')"
   ]
  },
  {
   "cell_type": "code",
   "execution_count": 38,
   "id": "20486caf",
   "metadata": {},
   "outputs": [
    {
     "name": "stdout",
     "output_type": "stream",
     "text": [
      "- 2번책\n",
      "- 4번책\n",
      "- 3번책\n",
      "- 1번책\n"
     ]
    }
   ],
   "source": [
    "def index_creator(tag):\n",
    "    def text(title_list):\n",
    "        for index in title_list:\n",
    "            print('{0} {1}'.format(tag, index))\n",
    "    return text\n",
    "title={\"1번책\",\"2번책\",\"3번책\",\"4번책\"}\n",
    "func1= index_creator('-')\n",
    "func1(title_list)"
   ]
  },
  {
   "cell_type": "code",
   "execution_count": 46,
   "id": "59122b65",
   "metadata": {},
   "outputs": [],
   "source": [
    "import requests\n",
    "from bs4 import BeautifulSoup\n",
    "\n",
    "res = requests.get('https://davelee-fun.github.io/blog/crawl_html_css.html')\n",
    "soup = BeautifulSoup(res.content, 'html.parser')\n",
    "\n",
    "link_title = soup.select(\"ul#hobby_cource_list >li\")\n",
    "for link_title in link_title:\n",
    "    print(data_list_minus(link_title.get_text()))"
   ]
  },
  {
   "cell_type": "markdown",
   "id": "e5f76a13",
   "metadata": {},
   "source": [
    "### Closure function\n",
    "- 함수와 해당 함수가 가지고 있는 데이터를 함께 복사, 저장해서 별도 함수로 활용하는 기법으로 First-class 함수와 동일\n",
    "- 외부 함수가 소멸되더라도, 외부 함수 안에 있는 로컬 변수 값과 중첩함수(내부함수)를 사용할 수 있는 기법"
   ]
  },
  {
   "cell_type": "code",
   "execution_count": 47,
   "id": "9c8ac763",
   "metadata": {},
   "outputs": [],
   "source": [
    "def outer_func(num):\n",
    "    def inner_func():\n",
    "        print(num)\n",
    "        return 'hello'\n",
    "    return inner_func"
   ]
  },
  {
   "cell_type": "code",
   "execution_count": 49,
   "id": "c1bfb7c7",
   "metadata": {},
   "outputs": [
    {
     "name": "stdout",
     "output_type": "stream",
     "text": [
      "10\n"
     ]
    },
    {
     "data": {
      "text/plain": [
       "'hello'"
      ]
     },
     "execution_count": 49,
     "metadata": {},
     "output_type": "execute_result"
    }
   ],
   "source": [
    "closure_func=outer_func(10) #first class function 호출\n",
    "closure_func() #closure function 호출"
   ]
  },
  {
   "cell_type": "code",
   "execution_count": 51,
   "id": "60bdc9ff",
   "metadata": {},
   "outputs": [
    {
     "name": "stdout",
     "output_type": "stream",
     "text": [
      "2\n",
      "4\n",
      "8\n",
      "16\n",
      "32\n"
     ]
    }
   ],
   "source": [
    "def calc_power(num):\n",
    "    def power(digit):\n",
    "        return digit**num\n",
    "    return power\n",
    "\n",
    "list_data=list()\n",
    "for num in range(1,6):\n",
    "    list_data.append(calc_power(num))\n",
    "\n",
    "        \n",
    "for func in list_data:\n",
    "    print(func(2))"
   ]
  },
  {
   "cell_type": "markdown",
   "id": "8e76ecf6",
   "metadata": {},
   "source": [
    "### 2.4 데코레이터\n",
    "- 함수 앞뒤에 기능을 추가해서 손쉽게 함수를 활용할 수 있는 기법\n",
    "- Closure function을 활용 "
   ]
  },
  {
   "cell_type": "code",
   "execution_count": 1,
   "id": "36a41ad5",
   "metadata": {},
   "outputs": [
    {
     "name": "stdout",
     "output_type": "stream",
     "text": [
      "Dave login\n"
     ]
    }
   ],
   "source": [
    "def logger_login():\n",
    "    print(\"Dave login\")\n",
    "\n",
    "logger_login()"
   ]
  },
  {
   "cell_type": "code",
   "execution_count": 2,
   "id": "bcf6a37c",
   "metadata": {},
   "outputs": [
    {
     "name": "stdout",
     "output_type": "stream",
     "text": [
      "2023-01-19 22:57:35.459504\n",
      "Dave login\n",
      "2023-01-19 22:57:35.459595\n"
     ]
    }
   ],
   "source": [
    "import datetime\n",
    "def logger_login():\n",
    "    print(datetime.datetime.now())\n",
    "    print(\"Dave login\")\n",
    "    print(datetime.datetime.now())\n",
    "\n",
    "logger_login()"
   ]
  },
  {
   "cell_type": "markdown",
   "id": "23fcd1b6",
   "metadata": {},
   "source": [
    "### 2.5 데코레이터 작성 방법"
   ]
  },
  {
   "cell_type": "code",
   "execution_count": 3,
   "id": "03aad64a",
   "metadata": {},
   "outputs": [],
   "source": [
    "def datetime_decorator(func):\n",
    "    def wrapper():\n",
    "        print('time'+str(datetime.datetime.now()))\n",
    "        func()\n",
    "        print(datetime.datetime.now())\n",
    "    return wrapper"
   ]
  },
  {
   "cell_type": "code",
   "execution_count": 5,
   "id": "b11b2861",
   "metadata": {},
   "outputs": [
    {
     "name": "stdout",
     "output_type": "stream",
     "text": [
      "time2023-01-19 23:01:30.004160\n",
      "David login\n",
      "2023-01-19 23:01:30.004208\n"
     ]
    }
   ],
   "source": [
    "@datetime_decorator\n",
    "def logger_login_david():\n",
    "    print(\"David login\")\n",
    "    \n",
    "logger_login_david()"
   ]
  },
  {
   "cell_type": "code",
   "execution_count": 6,
   "id": "593494ca",
   "metadata": {},
   "outputs": [
    {
     "name": "stdout",
     "output_type": "stream",
     "text": [
      "time2023-01-19 23:02:19.673406\n",
      "anthony login\n",
      "2023-01-19 23:02:19.673444\n"
     ]
    }
   ],
   "source": [
    "@datetime_decorator\n",
    "def logger_login_anthony():\n",
    "    print(\"anthony login\")\n",
    "\n",
    "logger_login_anthony()"
   ]
  },
  {
   "cell_type": "code",
   "execution_count": 12,
   "id": "9bb55af4",
   "metadata": {},
   "outputs": [
    {
     "data": {
      "text/plain": [
       "50"
      ]
     },
     "execution_count": 12,
     "metadata": {},
     "output_type": "execute_result"
    }
   ],
   "source": [
    "def outer_function(function):\n",
    "    def inner_function(digit1, digit2):\n",
    "        if type(digit1) != int or type(digit2)!= int:\n",
    "            print(\"is not integer type\")\n",
    "            return\n",
    "        return function(digit1,digit2)\n",
    "    return inner_function\n",
    "\n",
    "@outer_function\n",
    "def num(digit1, digit2):\n",
    "    return digit1*digit2\n",
    "\n",
    "num(10,5)"
   ]
  },
  {
   "cell_type": "code",
   "execution_count": 28,
   "id": "2fede26a",
   "metadata": {},
   "outputs": [
    {
     "name": "stdout",
     "output_type": "stream",
     "text": [
      "<b>안녕</b>\n",
      "<b>안녕</b>\n"
     ]
    }
   ],
   "source": [
    "def mark_bolic(function):\n",
    "    def wrapper(text):\n",
    "        return f\"<b>{text}</b>\"\n",
    "    return wrapper\n",
    "\n",
    "def mark_italic(function):\n",
    "    def wrapper(text):\n",
    "        return f\"<i>{text}</i>\"\n",
    "    return wrapper\n",
    "\n",
    "@mark_bolic\n",
    "@mark_italic\n",
    "def print_text(text):\n",
    "    return text\n",
    "\n",
    "print(print_text(\"안녕\"))\n",
    "print(print_text(\"안녕\"))"
   ]
  },
  {
   "cell_type": "code",
   "execution_count": 31,
   "id": "69dba1d3",
   "metadata": {},
   "outputs": [
    {
     "name": "stdout",
     "output_type": "stream",
     "text": [
      "<h2>안녕</h2>\n"
     ]
    }
   ],
   "source": [
    "def html_decorator(num,char):\n",
    "    def html_outer(function):\n",
    "        def html_inner(*args, **kwargs):\n",
    "            if char =='h':\n",
    "                return f\"<{char}{num}>{function(*args,**kwargs)}</{char}{num}>\"\n",
    "            else:\n",
    "                return f\"<{char}>{function(*args,**kwargs)}</{char}>\"\n",
    "        return html_inner\n",
    "    return html_outer\n",
    "\n",
    "@html_decorator(2,'h')\n",
    "def print_hello(string):\n",
    "    return string\n",
    "\n",
    "print(print_hello(\"안녕\"))"
   ]
  }
 ],
 "metadata": {
  "kernelspec": {
   "display_name": "Python 3 (ipykernel)",
   "language": "python",
   "name": "python3"
  },
  "language_info": {
   "codemirror_mode": {
    "name": "ipython",
    "version": 3
   },
   "file_extension": ".py",
   "mimetype": "text/x-python",
   "name": "python",
   "nbconvert_exporter": "python",
   "pygments_lexer": "ipython3",
   "version": "3.11.1"
  }
 },
 "nbformat": 4,
 "nbformat_minor": 5
}
